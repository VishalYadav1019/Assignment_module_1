{
 "cells": [
  {
   "cell_type": "code",
   "execution_count": 2,
   "id": "224c39a4-ad3d-43fa-903e-288fb3e44fd0",
   "metadata": {},
   "outputs": [],
   "source": [
    "import numpy as np #import library first\n"
   ]
  },
  {
   "cell_type": "code",
   "execution_count": 2,
   "id": "03d52e8d-2a86-4caa-9840-5ce1eadcd740",
   "metadata": {},
   "outputs": [
    {
     "data": {
      "text/plain": [
       "array([1, 2, 2, 3, 2, 6])"
      ]
     },
     "execution_count": 2,
     "metadata": {},
     "output_type": "execute_result"
    }
   ],
   "source": [
    "a=np.array([1,2,2,3,2,6])  # create a array \n",
    "a"
   ]
  },
  {
   "cell_type": "code",
   "execution_count": 5,
   "id": "786263ab-7e84-4713-8ba5-887d2e131738",
   "metadata": {},
   "outputs": [
    {
     "data": {
      "text/plain": [
       "array([[ 2, 34,  2,  4, 56,  2],\n",
       "       [ 2,  3,  4,  5,  2,  5]])"
      ]
     },
     "execution_count": 5,
     "metadata": {},
     "output_type": "execute_result"
    }
   ],
   "source": [
    "b=np.array([[2,34,2,4,56,2],[2,3,4,5,2,5]]) # create number of dimension in array.\n",
    "b"
   ]
  },
  {
   "cell_type": "code",
   "execution_count": 6,
   "id": "e937415c-4a0d-4c99-94b7-87ddd4dbceeb",
   "metadata": {},
   "outputs": [
    {
     "data": {
      "text/plain": [
       "numpy.ndarray"
      ]
     },
     "execution_count": 6,
     "metadata": {},
     "output_type": "execute_result"
    }
   ],
   "source": [
    "type(b)  # check the array type"
   ]
  },
  {
   "cell_type": "code",
   "execution_count": 7,
   "id": "6ecec987-4cc0-48a4-b4d6-1f118d5028d3",
   "metadata": {},
   "outputs": [
    {
     "data": {
      "text/plain": [
       "2"
      ]
     },
     "execution_count": 7,
     "metadata": {},
     "output_type": "execute_result"
    }
   ],
   "source": [
    "b.ndim  # check the number of dimension"
   ]
  },
  {
   "cell_type": "code",
   "execution_count": 11,
   "id": "baaf3d78-5aff-4f0b-bde5-481c6c754aaf",
   "metadata": {},
   "outputs": [
    {
     "data": {
      "text/plain": [
       "array([[[[[ 2, 34,  2,  4, 56]]]]])"
      ]
     },
     "execution_count": 11,
     "metadata": {},
     "output_type": "execute_result"
    }
   ],
   "source": [
    "d=np.array([2,34,2,4,56] , ndmin=5)  # ndmin means declare the number of dimension\n",
    "d"
   ]
  },
  {
   "cell_type": "code",
   "execution_count": 12,
   "id": "85863f63-9fad-4646-97f6-c416c831370c",
   "metadata": {},
   "outputs": [
    {
     "data": {
      "text/plain": [
       "5"
      ]
     },
     "execution_count": 12,
     "metadata": {},
     "output_type": "execute_result"
    }
   ],
   "source": [
    "d.ndim"
   ]
  },
  {
   "cell_type": "code",
   "execution_count": 13,
   "id": "0f60c21c-2b8e-413c-9235-6526ad3fc2cb",
   "metadata": {},
   "outputs": [
    {
     "name": "stdout",
     "output_type": "stream",
     "text": [
      "(1, 1, 1, 1, 5)\n"
     ]
    }
   ],
   "source": [
    "print(d.shape)  #check the shape of array which is stored in the dimension"
   ]
  },
  {
   "cell_type": "code",
   "execution_count": 18,
   "id": "18d08a14-9914-4cbb-a310-8211527d4a3a",
   "metadata": {},
   "outputs": [
    {
     "name": "stdout",
     "output_type": "stream",
     "text": [
      "[[[ 2 34  2  4 56]]]\n"
     ]
    }
   ],
   "source": [
    "print(d.reshape(1,5))  # convert row and columns in different way."
   ]
  },
  {
   "cell_type": "code",
   "execution_count": 4,
   "id": "1ed25d9b-50cc-4649-8c6d-e3bc400707df",
   "metadata": {},
   "outputs": [
    {
     "name": "stdout",
     "output_type": "stream",
     "text": [
      "[[[3 5 7]]\n",
      "\n",
      " [[7 8 8]]]\n",
      "shape: (2, 1, 3)\n",
      "reshape:  [[[3 5]\n",
      "  [7 7]\n",
      "  [8 8]]]\n"
     ]
    }
   ],
   "source": [
    "h = np.array([[[3,5,7]],[[7,8,8]]])\n",
    "print(h)\n",
    "print(\"shape:\" , h.shape)\n",
    "print(\"reshape: \", h.reshape(1,3,2))"
   ]
  },
  {
   "cell_type": "code",
   "execution_count": 5,
   "id": "38d4e649-aca6-45b4-913e-81a03aa755bd",
   "metadata": {},
   "outputs": [
    {
     "name": "stdout",
     "output_type": "stream",
     "text": [
      "15\n"
     ]
    }
   ],
   "source": [
    "print(h[0,0,1] + h[0,0,1] + h[0,0,1]) #Add the value using indexing store in the array"
   ]
  },
  {
   "cell_type": "code",
   "execution_count": 34,
   "id": "a88e1a79-6a57-4506-a922-3bbead363a60",
   "metadata": {},
   "outputs": [
    {
     "name": "stdout",
     "output_type": "stream",
     "text": [
      "v = [1 3 4 2 6]\n",
      "n =  [1 3 4 2 6]\n"
     ]
    }
   ],
   "source": [
    "v=np.array([1,3,4,2,6])\n",
    "print(\"v =\",v)\n",
    "n=v.copy() #Copy method is used for create a copy of the array.\n",
    "print(\"n = \",n)"
   ]
  },
  {
   "cell_type": "code",
   "execution_count": 35,
   "id": "78767479-9ec7-4853-b82a-f8a7a26d8455",
   "metadata": {},
   "outputs": [
    {
     "name": "stdout",
     "output_type": "stream",
     "text": [
      "[1 3 5 2 6]\n"
     ]
    }
   ],
   "source": [
    "n[2]=5\n",
    "print(n)"
   ]
  },
  {
   "cell_type": "code",
   "execution_count": 38,
   "id": "81e9c8b9-261a-4af2-978d-02bdab16b0d8",
   "metadata": {},
   "outputs": [
    {
     "name": "stdout",
     "output_type": "stream",
     "text": [
      "v= [1 3 4 2 6]\n",
      "n= [1 3 5 2 6]\n"
     ]
    }
   ],
   "source": [
    "print(\"v=\",v) # copy method doesnot change the original data.\n",
    "print(\"n=\",n)"
   ]
  },
  {
   "cell_type": "code",
   "execution_count": 42,
   "id": "1cfae363-e59e-4526-83d3-ae869690b494",
   "metadata": {},
   "outputs": [
    {
     "name": "stdout",
     "output_type": "stream",
     "text": [
      "j= [1 2 3 2]\n",
      "p= [1 2 3 2]\n"
     ]
    }
   ],
   "source": [
    "j=np.array([1,2,3,2])\n",
    "print(\"j=\",j)\n",
    "p=j.view()  # using view method do changes in original data...\n",
    "print(\"p=\",p)"
   ]
  },
  {
   "cell_type": "code",
   "execution_count": 44,
   "id": "5fcc28ba-1aa1-416b-af71-b47abcaf8e7d",
   "metadata": {},
   "outputs": [
    {
     "name": "stdout",
     "output_type": "stream",
     "text": [
      "[ 1 10  3  2]\n"
     ]
    }
   ],
   "source": [
    "p[1]=10\n",
    "print(p)"
   ]
  },
  {
   "cell_type": "code",
   "execution_count": 45,
   "id": "f89c3eb9-673f-4a3e-9f5c-9c974f4d36e3",
   "metadata": {},
   "outputs": [
    {
     "name": "stdout",
     "output_type": "stream",
     "text": [
      "j= [ 1 10  3  2]\n",
      "p= [ 1 10  3  2]\n"
     ]
    }
   ],
   "source": [
    "print(\"j=\",j)    # changes make in original data.\n",
    "print(\"p=\",p)"
   ]
  },
  {
   "cell_type": "code",
   "execution_count": 48,
   "id": "1ce610ae-363c-447a-abe3-53c3f2fd1ac9",
   "metadata": {},
   "outputs": [
    {
     "data": {
      "text/plain": [
       "array([1., 1., 1., 1., 1.])"
      ]
     },
     "execution_count": 48,
     "metadata": {},
     "output_type": "execute_result"
    }
   ],
   "source": [
    "np.ones((5))    # ones function is used for creating the array using one."
   ]
  },
  {
   "cell_type": "code",
   "execution_count": 49,
   "id": "fcb545db-751b-4393-87e2-1d4cdd7eacc7",
   "metadata": {},
   "outputs": [
    {
     "data": {
      "text/plain": [
       "array([[1., 1.],\n",
       "       [1., 1.],\n",
       "       [1., 1.],\n",
       "       [1., 1.],\n",
       "       [1., 1.]])"
      ]
     },
     "execution_count": 49,
     "metadata": {},
     "output_type": "execute_result"
    }
   ],
   "source": [
    "np.ones((5,2))  #also give the shape of the array.."
   ]
  },
  {
   "cell_type": "code",
   "execution_count": 54,
   "id": "cdaffe68-1983-4ce3-9f58-300211e01ba9",
   "metadata": {},
   "outputs": [
    {
     "data": {
      "text/plain": [
       "array([[1, 1],\n",
       "       [1, 1],\n",
       "       [1, 1],\n",
       "       [1, 1],\n",
       "       [1, 1]], dtype=int64)"
      ]
     },
     "execution_count": 54,
     "metadata": {},
     "output_type": "execute_result"
    }
   ],
   "source": [
    "np.ones((5,2),dtype =np.int64) #Also change the datatypes of the array"
   ]
  },
  {
   "cell_type": "code",
   "execution_count": 51,
   "id": "b64c36e3-4991-4136-bf24-c9aa71b39ed7",
   "metadata": {},
   "outputs": [
    {
     "data": {
      "text/plain": [
       "array([0., 0., 0., 0., 0., 0.])"
      ]
     },
     "execution_count": 51,
     "metadata": {},
     "output_type": "execute_result"
    }
   ],
   "source": [
    "np.zeros((6))  # zeros means creating array using zero."
   ]
  },
  {
   "cell_type": "code",
   "execution_count": 53,
   "id": "cba75fb5-5e2d-4176-89a4-e30dcf60bda0",
   "metadata": {},
   "outputs": [
    {
     "data": {
      "text/plain": [
       "array([[0., 0., 0.],\n",
       "       [0., 0., 0.],\n",
       "       [0., 0., 0.],\n",
       "       [0., 0., 0.],\n",
       "       [0., 0., 0.],\n",
       "       [0., 0., 0.]])"
      ]
     },
     "execution_count": 53,
     "metadata": {},
     "output_type": "execute_result"
    }
   ],
   "source": [
    "np.zeros((6,3))  # Also give the shape of the array"
   ]
  },
  {
   "cell_type": "code",
   "execution_count": null,
   "id": "8f409a78-c8ef-468e-b2ae-4c849bb342bf",
   "metadata": {},
   "outputs": [],
   "source": []
  }
 ],
 "metadata": {
  "kernelspec": {
   "display_name": "Python 3 (ipykernel)",
   "language": "python",
   "name": "python3"
  },
  "language_info": {
   "codemirror_mode": {
    "name": "ipython",
    "version": 3
   },
   "file_extension": ".py",
   "mimetype": "text/x-python",
   "name": "python",
   "nbconvert_exporter": "python",
   "pygments_lexer": "ipython3",
   "version": "3.11.7"
  }
 },
 "nbformat": 4,
 "nbformat_minor": 5
}
